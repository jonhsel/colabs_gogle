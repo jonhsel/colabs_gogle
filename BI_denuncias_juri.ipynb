{
  "nbformat": 4,
  "nbformat_minor": 0,
  "metadata": {
    "colab": {
      "private_outputs": true,
      "provenance": [],
      "mount_file_id": "1RVB6EObjkV1-McMKxOg5gn-hQctHxizb",
      "authorship_tag": "ABX9TyNnXwNbJhXH8pnbLNPFx2l2"
    },
    "kernelspec": {
      "name": "python3",
      "display_name": "Python 3"
    },
    "language_info": {
      "name": "python"
    }
  },
  "cells": [
    {
      "cell_type": "code",
      "execution_count": null,
      "metadata": {
        "id": "lgwB6vpDEX7s"
      },
      "outputs": [],
      "source": [
        "import pandas as pd\n",
        "import glob"
      ]
    },
    {
      "cell_type": "code",
      "source": [
        "#Funcao para carregar os aruivos\n",
        "def painel_denuncias_juri(caminho_diretorio):\n",
        "    \"\"\"\n",
        "        - Carrega todos os arquivos xLs em um determinado diretório e retorna um dataframe;\n",
        "        - Concatena-os em um único Dataframe\n",
        "        - Salve me um arquivo .csv\n",
        "\n",
        "        ARGS:\n",
        "            caminho_diretorio : O caminho completo para o diretorio onde os arquivos estão;\n",
        "            nome_arquivo_saida: O nome do arquivo CSV de saida\n",
        "    \"\"\"\n",
        "    #Encontra os arquivos XLS no diretório\n",
        "    arquivos_xls = glob.glob(caminho_diretorio + \"/*.xls\")\n",
        "\n",
        "    #Criar uma lisa para armazenar os Dataframes\n",
        "    dataframes= []\n",
        "\n",
        "    #Itera sobre cada arquivo e cria um DataFrame\n",
        "    for arquivo in arquivos_xls:\n",
        "        df = pd.read_excel(arquivo)\n",
        "        dataframes.append(df)\n",
        "\n",
        "    #Concatena todos os DataFrames em um único Dataframe\n",
        "    df_concatenado = pd.concat(dataframes, ignore_index=True)\n",
        "\n",
        "    return df_concatenado\n",
        "\n"
      ],
      "metadata": {
        "id": "Bx_BLT2xWxps"
      },
      "execution_count": null,
      "outputs": []
    },
    {
      "cell_type": "code",
      "source": [
        "#digitar o caminho para a pasta de arquivos\n",
        "caminho = input(\"Digite o caminho para a pasta de arquivos: \")\n"
      ],
      "metadata": {
        "id": "RDMqzc83l9Cg"
      },
      "execution_count": null,
      "outputs": []
    },
    {
      "cell_type": "code",
      "source": [
        "df_resultado = painel_denuncias_juri(caminho)"
      ],
      "metadata": {
        "id": "WcIx8w2dned8"
      },
      "execution_count": null,
      "outputs": []
    },
    {
      "cell_type": "code",
      "source": [
        "df_resultado.head()"
      ],
      "metadata": {
        "id": "FgEVdmgqnxOD"
      },
      "execution_count": null,
      "outputs": []
    },
    {
      "cell_type": "code",
      "source": [
        "df_resultado.columns"
      ],
      "metadata": {
        "id": "-GQjKsGLvddl"
      },
      "execution_count": null,
      "outputs": []
    },
    {
      "cell_type": "code",
      "source": [
        "df_resultado.info()"
      ],
      "metadata": {
        "id": "Jp3z1f2DqSHf"
      },
      "execution_count": null,
      "outputs": []
    },
    {
      "cell_type": "code",
      "source": [
        "#Divisão\n",
        "df_resultado['Movimento_split'] = df_resultado.Movimento.str.split('-->')\n",
        "df_resultado['Movimento_split'].head()"
      ],
      "metadata": {
        "id": "O08grzEuw7dC"
      },
      "execution_count": null,
      "outputs": []
    },
    {
      "cell_type": "code",
      "source": [
        "# prompt: gerar código que selecione o primeiro elemento da série df_resultado['Movimento_split] e insira na série df_resultado['Movimento_final]\n",
        "\n",
        "df_resultado['Movimento_final'] = df_resultado['Movimento_split'].str[0]\n"
      ],
      "metadata": {
        "id": "TucI7LRa4WW9"
      },
      "execution_count": null,
      "outputs": []
    },
    {
      "cell_type": "code",
      "source": [
        "df_resultado.head()"
      ],
      "metadata": {
        "id": "C1Fnpk5r5CxU"
      },
      "execution_count": null,
      "outputs": []
    },
    {
      "cell_type": "code",
      "source": [
        "# Cria uma série chamada df_resultado['Fase_movimento']; se df_resultado['Movimento_final'] == 'ABSOLVIÇÃO' ou 'ABSOLVIÇÃO A PEDIDO' ou 'CONDENAÇÃO' ou 'CONDENAÇÃO PARCIAL' ou 'DESCLASSIFICAÇÃO' ou 'EXTINÇÃO DE PUNIBILIDADE', a serie df_resultado['Fase_movimento']  == 'Sessão do Tribunal do Júri', se não df_resultado['Fase_movimento']  == '1ª Fase'\n",
        "\n",
        "#df_resultado['Fase_movimento'] = ''\n",
        "#for i in range(0,len(df_resultado)):\n",
        "#  if df_resultado['Movimento_final'][i] == 'ABSOLVIÇÃO' or df_resultado['Movimento_final'][i] == 'ABSOLVIÇÃO A PEDIDO DO MP' or df_resultado['Movimento_final'][i] == 'CONDENAÇÃO' or df_resultado['Movimento_final'][i] == 'CONDENAÇÃO PARCIAL' or df_resultado['Movimento_final'][i] == 'DESCLASSIFICAÇÃO' or df_resultado['Movimento_final'][i] == 'EXTINÇÃO DE PUNIBILIDADE':\n",
        "#    df_resultado['Fase_movimento'][i] = 'Sessão do Tribunal do Júri'\n",
        "#  else:\n",
        "#    df_resultado['Fase_movimento'][i] = '1ª Fase'\n"
      ],
      "metadata": {
        "id": "OP1p72i_5-HW"
      },
      "execution_count": null,
      "outputs": []
    },
    {
      "cell_type": "code",
      "source": [
        "df_resultado.head(20)"
      ],
      "metadata": {
        "id": "IzeTwl7a-Ajs"
      },
      "execution_count": null,
      "outputs": []
    },
    {
      "cell_type": "code",
      "source": [
        "df_resultado.info()"
      ],
      "metadata": {
        "id": "mcmL91nZq01a"
      },
      "execution_count": null,
      "outputs": []
    },
    {
      "cell_type": "code",
      "source": [
        "df_final = df_resultado[['Protocolo','Data','Movimento_final','Assunto','Promotor','Promotoria','Comarca']]"
      ],
      "metadata": {
        "id": "fll40gPYvoFR"
      },
      "execution_count": null,
      "outputs": []
    },
    {
      "cell_type": "code",
      "source": [
        "df_final.head()"
      ],
      "metadata": {
        "id": "dXlI46EJ-uEE"
      },
      "execution_count": null,
      "outputs": []
    },
    {
      "cell_type": "code",
      "source": [
        "#digitar o nome do arquivo de saída- output\n",
        "arquivo_saida = input(\"Digite o nome do arquivo de saída: \")"
      ],
      "metadata": {
        "id": "X0Pp8mE8lHmI"
      },
      "execution_count": null,
      "outputs": []
    },
    {
      "cell_type": "code",
      "source": [
        "#nome do arquivo\n",
        "nome_saida = caminho + arquivo_saida"
      ],
      "metadata": {
        "id": "_W9Ku1UfqnEZ"
      },
      "execution_count": null,
      "outputs": []
    },
    {
      "cell_type": "code",
      "source": [],
      "metadata": {
        "id": "Hq9F1pohvb8R"
      },
      "execution_count": null,
      "outputs": []
    },
    {
      "cell_type": "code",
      "source": [
        "df_final.to_csv(nome_saida+'.csv', index=False)"
      ],
      "metadata": {
        "id": "VyjqkN8irJem"
      },
      "execution_count": null,
      "outputs": []
    }
  ]
}