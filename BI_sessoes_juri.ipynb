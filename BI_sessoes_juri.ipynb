{
  "nbformat": 4,
  "nbformat_minor": 0,
  "metadata": {
    "colab": {
      "private_outputs": true,
      "provenance": [],
      "mount_file_id": "1wLBqnYm9SxNOmt_8tETXNUsO7zCxna6m",
      "authorship_tag": "ABX9TyNorB+g5TFlf/63Qa2UlMKE",
      "include_colab_link": true
    },
    "kernelspec": {
      "name": "python3",
      "display_name": "Python 3"
    },
    "language_info": {
      "name": "python"
    }
  },
  "cells": [
    {
      "cell_type": "markdown",
      "metadata": {
        "id": "view-in-github",
        "colab_type": "text"
      },
      "source": [
        "<a href=\"https://colab.research.google.com/github/jonhsel/colabs_gogle/blob/main/BI_sessoes_juri.ipynb\" target=\"_parent\"><img src=\"https://colab.research.google.com/assets/colab-badge.svg\" alt=\"Open In Colab\"/></a>"
      ]
    },
    {
      "cell_type": "markdown",
      "source": [
        "# AUTOMAÇÃO DA ETAPA T - TRANSFORMAÇÃO DO ETL"
      ],
      "metadata": {
        "id": "u-Zy0LiS6v4W"
      }
    },
    {
      "cell_type": "markdown",
      "source": [
        "Etapa realizada após a extração dos dados no sistema SIMP!"
      ],
      "metadata": {
        "id": "BQOcIhCx66Fl"
      }
    },
    {
      "cell_type": "markdown",
      "source": [
        "## Bibliotecas necessárias"
      ],
      "metadata": {
        "id": "-X-dAWoV9_TY"
      }
    },
    {
      "cell_type": "code",
      "execution_count": null,
      "metadata": {
        "id": "lgwB6vpDEX7s"
      },
      "outputs": [],
      "source": [
        "import pandas as pd\n",
        "import glob"
      ]
    },
    {
      "cell_type": "markdown",
      "source": [
        "## Criação de rotina para:\n",
        "\n",
        "\n",
        "\n",
        "1.   Carregar os arquivos .xls;\n",
        "2.   Concatenar os diversos arquivos em um único arquivo;\n",
        "3.   Transformar o arquivo em um objeto do tipo  Dataframe;"
      ],
      "metadata": {
        "id": "RuRJSZc2-CcV"
      }
    },
    {
      "cell_type": "code",
      "source": [
        "#Função para carregar os arquivos\n",
        "def painel_bi_sessaojuri(caminho_diretorio):\n",
        "    \"\"\"\n",
        "        - Carrega todos os arquivos xLs em um determinado diretório e retorna um dataframe;\n",
        "        - Concatena-os em um único Dataframe\n",
        "        - Salve me um arquivo .csv\n",
        "\n",
        "        ARGS:\n",
        "            caminho_diretorio : O caminho completo para o diretorio onde os arquivos estão;\n",
        "            nome_arquivo_saida: O nome do arquivo CSV de saida\n",
        "    \"\"\"\n",
        "    #Encontra os arquivos XLS no diretório\n",
        "    arquivos_xls = glob.glob(caminho_diretorio + \"/*.xls\")\n",
        "\n",
        "    #Criar uma lisa para armazenar os Dataframes\n",
        "    dataframes= []\n",
        "\n",
        "    #Itera sobre cada arquivo e cria um DataFrame\n",
        "    for arquivo in arquivos_xls:\n",
        "        df = pd.read_excel(arquivo)\n",
        "        dataframes.append(df)\n",
        "\n",
        "    #Concatena todos os DataFrames em um único Dataframe\n",
        "    df_concatenado = pd.concat(dataframes, ignore_index=True)\n",
        "\n",
        "    return df_concatenado"
      ],
      "metadata": {
        "id": "Bx_BLT2xWxps"
      },
      "execution_count": null,
      "outputs": []
    },
    {
      "cell_type": "code",
      "source": [
        "caminho = \"/content/drive/MyDrive/CAOJURI/08 - agosto\""
      ],
      "metadata": {
        "id": "RDMqzc83l9Cg"
      },
      "execution_count": null,
      "outputs": []
    },
    {
      "cell_type": "code",
      "source": [
        "df_resultado = painel_bi_sessaojuri(caminho)"
      ],
      "metadata": {
        "id": "WcIx8w2dned8"
      },
      "execution_count": null,
      "outputs": []
    },
    {
      "cell_type": "code",
      "source": [
        "df_resultado.head()"
      ],
      "metadata": {
        "id": "FgEVdmgqnxOD"
      },
      "execution_count": null,
      "outputs": []
    },
    {
      "cell_type": "code",
      "source": [
        "df_resultado.columns"
      ],
      "metadata": {
        "id": "-GQjKsGLvddl"
      },
      "execution_count": null,
      "outputs": []
    },
    {
      "cell_type": "markdown",
      "source": [
        "## Separação do \"Movimento\""
      ],
      "metadata": {
        "id": "L8YXq5pb-ujZ"
      }
    },
    {
      "cell_type": "code",
      "source": [
        "#Divisão\n",
        "df_resultado['Movimento_split'] = df_resultado.Movimento.str.split('-->')\n",
        "df_resultado['Movimento_split'].head()"
      ],
      "metadata": {
        "id": "O08grzEuw7dC"
      },
      "execution_count": null,
      "outputs": []
    },
    {
      "cell_type": "code",
      "source": [
        "# prompt: gerar código que selecione o primeiro elemento da série df_resultado['Movimento_split] e insira na série df_resultado['Movimento_final]\n",
        "df_resultado['Movimento_final'] = df_resultado['Movimento_split'].str[0]\n",
        "df_resultado.head()"
      ],
      "metadata": {
        "id": "TucI7LRa4WW9"
      },
      "execution_count": null,
      "outputs": []
    },
    {
      "cell_type": "markdown",
      "source": [
        "##  Engenharia de Características\n",
        "Criação da dimensão 'Fase do Movimento' com a criação das variáveis \"1ª Fase\" e \"Sessão do Tribunal do Júri\"."
      ],
      "metadata": {
        "id": "Mz4hCLfVFrVa"
      }
    },
    {
      "cell_type": "code",
      "source": [
        "# Cria uma série chamada df_resultado['Fase_movimento']; se df_resultado['Movimento_final'] == 'ABSOLVIÇÃO' ou 'ABSOLVIÇÃO A PEDIDO' ou 'CONDENAÇÃO' ou 'CONDENAÇÃO PARCIAL' ou 'DESCLASSIFICAÇÃO' ou 'EXTINÇÃO DE PUNIBILIDADE', a serie df_resultado['Fase_movimento']  == 'Sessão do Tribunal do Júri', se não df_resultado['Fase_movimento']  == '1ª Fase'\n",
        "\n",
        "df_resultado['Fase_movimento'] = ''\n",
        "for i in range(0,len(df_resultado)):\n",
        "  if df_resultado['Movimento_final'][i] == 'ABSOLVIÇÃO' or df_resultado['Movimento_final'][i] == 'ABSOLVIÇÃO A PEDIDO DO MP' or df_resultado['Movimento_final'][i] == 'CONDENAÇÃO' or df_resultado['Movimento_final'][i] == 'CONDENAÇÃO PARCIAL' or df_resultado['Movimento_final'][i] == 'DESCLASSIFICAÇÃO' or df_resultado['Movimento_final'][i] == 'EXTINÇÃO DE PUNIBILIDADE':\n",
        "    df_resultado['Fase_movimento'][i] = 'Sessão do Tribunal do Júri'\n",
        "  else:\n",
        "    df_resultado['Fase_movimento'][i] = '1ª Fase'\n",
        "\n",
        "df_resultado.head(20)"
      ],
      "metadata": {
        "id": "OP1p72i_5-HW"
      },
      "execution_count": null,
      "outputs": []
    },
    {
      "cell_type": "code",
      "source": [
        "df_resultado.info()"
      ],
      "metadata": {
        "id": "mcmL91nZq01a"
      },
      "execution_count": null,
      "outputs": []
    },
    {
      "cell_type": "markdown",
      "source": [
        "## Reordenação das colunas\n",
        "\n",
        "As colunas são reordenadas para mesma sequência em que aparecem na base de dados do BI"
      ],
      "metadata": {
        "id": "-ERHsnT_GHQD"
      }
    },
    {
      "cell_type": "code",
      "source": [
        "df_final = df_resultado[['Protocolo','Data','Movimento_final','Fase_movimento','Assunto','Promotor','Promotoria','Comarca']]\n",
        "df_final.head()"
      ],
      "metadata": {
        "id": "fll40gPYvoFR"
      },
      "execution_count": null,
      "outputs": []
    },
    {
      "cell_type": "markdown",
      "source": [
        "## Geração do arquivo de saída e  download"
      ],
      "metadata": {
        "id": "RFp4kRR7GYc9"
      }
    },
    {
      "cell_type": "code",
      "source": [
        "nome_saida = \"/content/drive/MyDrive/CAOJURI/08 - agosto/CSVPainelBI-08\""
      ],
      "metadata": {
        "id": "_W9Ku1UfqnEZ"
      },
      "execution_count": null,
      "outputs": []
    },
    {
      "cell_type": "code",
      "source": [
        "df_final.to_csv(nome_saida+'.csv', index=False)"
      ],
      "metadata": {
        "id": "VyjqkN8irJem"
      },
      "execution_count": null,
      "outputs": []
    }
  ]
}